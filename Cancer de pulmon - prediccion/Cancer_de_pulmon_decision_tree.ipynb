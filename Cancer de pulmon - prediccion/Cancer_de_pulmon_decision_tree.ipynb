{
 "cells": [
  {
   "cell_type": "code",
   "execution_count": 22,
   "metadata": {},
   "outputs": [],
   "source": [
    "import findspark\n",
    "findspark.init()"
   ]
  },
  {
   "cell_type": "code",
   "execution_count": 23,
   "metadata": {},
   "outputs": [],
   "source": [
    "import pyspark\n",
    "from pyspark.sql import SparkSession\n",
    "spark = SparkSession.builder.getOrCreate()"
   ]
  },
  {
   "cell_type": "code",
   "execution_count": 24,
   "metadata": {},
   "outputs": [],
   "source": [
    "cpulmon = spark.read.csv(\"c:/data/lung_cancer.csv\",header=True, inferSchema=True, nullValue=\"NA\")"
   ]
  },
  {
   "cell_type": "code",
   "execution_count": 25,
   "metadata": {},
   "outputs": [
    {
     "name": "stdout",
     "output_type": "stream",
     "text": [
      "+------+---+-------+--------------+-------------+---------------+--------+--------+--------+-----------------+--------+-------------------+---------------------+----------+-----------+\n",
      "|GENDER|AGE|SMOKING|YELLOW_FINGERS|PEER_PRESSURE|CHRONIC_DISEASE|FATIGUE |ALLERGY |WHEEZING|ALCOHOL_CONSUMING|COUGHING|SHORTNESS_OF_BREATH|SWALLOWING_DIFFICULTY|CHEST_PAIN|LUNG_CANCER|\n",
      "+------+---+-------+--------------+-------------+---------------+--------+--------+--------+-----------------+--------+-------------------+---------------------+----------+-----------+\n",
      "|     M| 69|      1|             2|            1|              1|       2|       1|       2|                2|       2|                  2|                    2|         2|        YES|\n",
      "|     M| 74|      2|             1|            1|              2|       2|       2|       1|                1|       1|                  2|                    2|         2|        YES|\n",
      "|     F| 59|      1|             1|            2|              1|       2|       1|       2|                1|       2|                  2|                    1|         2|         NO|\n",
      "|     M| 63|      2|             2|            1|              1|       1|       1|       1|                2|       1|                  1|                    2|         2|         NO|\n",
      "|     F| 63|      1|             2|            1|              1|       1|       1|       2|                1|       2|                  2|                    1|         1|         NO|\n",
      "|     F| 75|      1|             2|            1|              2|       2|       2|       2|                1|       2|                  2|                    1|         1|        YES|\n",
      "|     M| 52|      2|             1|            1|              1|       2|       1|       2|                2|       2|                  2|                    1|         2|        YES|\n",
      "|     F| 51|      2|             2|            2|              1|       2|       2|       1|                1|       1|                  2|                    2|         1|        YES|\n",
      "|     F| 68|      2|             1|            1|              1|       2|       1|       1|                1|       1|                  1|                    1|         1|         NO|\n",
      "|     M| 53|      2|             2|            2|              2|       1|       2|       1|                2|       1|                  1|                    2|         2|        YES|\n",
      "+------+---+-------+--------------+-------------+---------------+--------+--------+--------+-----------------+--------+-------------------+---------------------+----------+-----------+\n",
      "only showing top 10 rows\n",
      "\n"
     ]
    }
   ],
   "source": [
    "cpulmon = cpulmon.drop('ANXIETY','ALLERGY',)\n",
    "cpulmon.show(10)"
   ]
  },
  {
   "cell_type": "code",
   "execution_count": 26,
   "metadata": {},
   "outputs": [
    {
     "name": "stdout",
     "output_type": "stream",
     "text": [
      "+------+---+-------+--------------+-------------+---------------+--------+--------+--------+-----------------+--------+-------------------+---------------------+----------+-----------+\n",
      "|GENDER|AGE|SMOKING|YELLOW_FINGERS|PEER_PRESSURE|CHRONIC_DISEASE|FATIGUE |ALLERGY |WHEEZING|ALCOHOL_CONSUMING|COUGHING|SHORTNESS_OF_BREATH|SWALLOWING_DIFFICULTY|CHEST_PAIN|LUNG_CANCER|\n",
      "+------+---+-------+--------------+-------------+---------------+--------+--------+--------+-----------------+--------+-------------------+---------------------+----------+-----------+\n",
      "|     M| 69|      1|             2|            1|              1|       2|       1|       2|                2|       2|                  2|                    2|         2|        YES|\n",
      "|     M| 74|      2|             1|            1|              2|       2|       2|       1|                1|       1|                  2|                    2|         2|        YES|\n",
      "|     F| 59|      1|             1|            2|              1|       2|       1|       2|                1|       2|                  2|                    1|         2|         NO|\n",
      "|     M| 63|      2|             2|            1|              1|       1|       1|       1|                2|       1|                  1|                    2|         2|         NO|\n",
      "|     F| 63|      1|             2|            1|              1|       1|       1|       2|                1|       2|                  2|                    1|         1|         NO|\n",
      "|     F| 75|      1|             2|            1|              2|       2|       2|       2|                1|       2|                  2|                    1|         1|        YES|\n",
      "|     M| 52|      2|             1|            1|              1|       2|       1|       2|                2|       2|                  2|                    1|         2|        YES|\n",
      "|     F| 51|      2|             2|            2|              1|       2|       2|       1|                1|       1|                  2|                    2|         1|        YES|\n",
      "|     F| 68|      2|             1|            1|              1|       2|       1|       1|                1|       1|                  1|                    1|         1|         NO|\n",
      "|     M| 53|      2|             2|            2|              2|       1|       2|       1|                2|       1|                  1|                    2|         2|        YES|\n",
      "|     F| 61|      2|             2|            2|              2|       2|       1|       2|                1|       2|                  2|                    2|         1|        YES|\n",
      "|     M| 72|      1|             1|            1|              2|       2|       2|       2|                2|       2|                  2|                    1|         2|        YES|\n",
      "|     F| 60|      2|             1|            1|              1|       2|       1|       1|                1|       1|                  2|                    1|         1|         NO|\n",
      "|     M| 58|      2|             1|            1|              1|       2|       2|       2|                2|       2|                  2|                    1|         2|        YES|\n",
      "|     M| 69|      2|             1|            1|              1|       1|       2|       2|                2|       2|                  1|                    1|         2|         NO|\n",
      "|     F| 48|      1|             2|            2|              2|       2|       2|       2|                1|       2|                  2|                    2|         1|        YES|\n",
      "|     M| 75|      2|             1|            1|              2|       1|       2|       2|                2|       2|                  2|                    1|         2|        YES|\n",
      "|     M| 57|      2|             2|            2|              2|       1|       1|       1|                2|       1|                  1|                    2|         2|        YES|\n",
      "|     F| 68|      2|             2|            2|              2|       2|       1|       1|                1|       2|                  2|                    1|         1|        YES|\n",
      "|     F| 61|      1|             1|            1|              2|       2|       1|       1|                1|       1|                  2|                    1|         1|         NO|\n",
      "+------+---+-------+--------------+-------------+---------------+--------+--------+--------+-----------------+--------+-------------------+---------------------+----------+-----------+\n",
      "only showing top 20 rows\n",
      "\n"
     ]
    }
   ],
   "source": [
    "#Limpieza de datos\n",
    "\n",
    "cpulmon = cpulmon.filter('SMOKING IS NOT NULL')\n",
    "cpulmon = cpulmon.filter('AGE IS NOT NULL')\n",
    "cpulmon = cpulmon.dropna()\n",
    "cpulmon.show(20)"
   ]
  },
  {
   "cell_type": "code",
   "execution_count": 27,
   "metadata": {},
   "outputs": [],
   "source": [
    "from pyspark.ml.feature import StringIndexer\n",
    "\n",
    "cpulmon = StringIndexer(inputCol='GENDER', outputCol= 'gd_idx').fit(cpulmon).transform(cpulmon)\n",
    "cpulmon = StringIndexer(inputCol='SMOKING', outputCol= 'smk_idx').fit(cpulmon).transform(cpulmon)\n",
    "cpulmon = StringIndexer(inputCol='YELLOW_FINGERS', outputCol= 'yf_idx').fit(cpulmon).transform(cpulmon)\n",
    "cpulmon = StringIndexer(inputCol='PEER_PRESSURE', outputCol= 'pp_idx').fit(cpulmon).transform(cpulmon)\n",
    "cpulmon = StringIndexer(inputCol='CHRONIC_DISEASE', outputCol= 'chd_idx').fit(cpulmon).transform(cpulmon)\n",
    "cpulmon = StringIndexer(inputCol='WHEEZING', outputCol= 'wh_idx').fit(cpulmon).transform(cpulmon)\n",
    "cpulmon = StringIndexer(inputCol='ALCOHOL_CONSUMING', outputCol= 'acm_idx').fit(cpulmon).transform(cpulmon)\n",
    "cpulmon = StringIndexer(inputCol='COUGHING', outputCol= 'cgh_idx').fit(cpulmon).transform(cpulmon)\n",
    "cpulmon = StringIndexer(inputCol='SHORTNESS_OF_BREATH', outputCol= 'shs_idx').fit(cpulmon).transform(cpulmon)\n",
    "cpulmon = StringIndexer(inputCol='SWALLOWING_DIFFICULTY', outputCol= 'shdy_idx').fit(cpulmon).transform(cpulmon)\n",
    "cpulmon = StringIndexer(inputCol='CHEST_PAIN', outputCol= 'chp_idx').fit(cpulmon).transform(cpulmon)"
   ]
  },
  {
   "cell_type": "code",
   "execution_count": 28,
   "metadata": {},
   "outputs": [],
   "source": [
    "cpulmon = StringIndexer(inputCol='LUNG_CANCER', outputCol= 'label').fit(cpulmon).transform(cpulmon)\n"
   ]
  },
  {
   "cell_type": "code",
   "execution_count": 30,
   "metadata": {},
   "outputs": [],
   "source": [
    "from pyspark.ml.feature import VectorAssembler\n",
    "\n",
    "assembler = VectorAssembler(inputCols = ['gd_idx','smk_idx','yf_idx','pp_idx','chd_idx', 'wh_idx', 'acm_idx','cgh_idx', 'shs_idx' ,'shdy_idx','chp_idx'],outputCol='features' )\n",
    "cpulmon= assembler.transform(cpulmon)"
   ]
  },
  {
   "cell_type": "code",
   "execution_count": 31,
   "metadata": {},
   "outputs": [
    {
     "name": "stdout",
     "output_type": "stream",
     "text": [
      "+--------------------+\n",
      "|            features|\n",
      "+--------------------+\n",
      "|(11,[1,3,4,9],[1....|\n",
      "|(11,[2,3,5,6,7,9]...|\n",
      "|(11,[0,1,2,4,6],[...|\n",
      "|(11,[3,4,5,7,8,9]...|\n",
      "|(11,[0,1,3,4,6,10...|\n",
      "|(11,[0,1,3,6,10],...|\n",
      "|(11,[2,3,4],[1.0,...|\n",
      "|[1.0,0.0,0.0,0.0,...|\n",
      "|[1.0,0.0,1.0,1.0,...|\n",
      "|(11,[5,7,8,9],[1....|\n",
      "+--------------------+\n",
      "only showing top 10 rows\n",
      "\n",
      "+-----+\n",
      "|label|\n",
      "+-----+\n",
      "|  0.0|\n",
      "|  0.0|\n",
      "|  1.0|\n",
      "|  1.0|\n",
      "|  1.0|\n",
      "|  0.0|\n",
      "|  0.0|\n",
      "|  0.0|\n",
      "|  1.0|\n",
      "|  0.0|\n",
      "|  0.0|\n",
      "|  0.0|\n",
      "|  1.0|\n",
      "|  0.0|\n",
      "|  1.0|\n",
      "|  0.0|\n",
      "|  0.0|\n",
      "|  0.0|\n",
      "|  0.0|\n",
      "|  1.0|\n",
      "+-----+\n",
      "only showing top 20 rows\n",
      "\n"
     ]
    }
   ],
   "source": [
    "cpulmon.select('features').show(10)\n",
    "cpulmon.select('label').show()"
   ]
  },
  {
   "cell_type": "code",
   "execution_count": 32,
   "metadata": {},
   "outputs": [
    {
     "data": {
      "text/plain": [
       "[8379, 2127]"
      ]
     },
     "execution_count": 32,
     "metadata": {},
     "output_type": "execute_result"
    }
   ],
   "source": [
    "cp_train, cp_test = cpulmon.randomSplit([0.8, 0.2], seed=23)\n",
    "[cp_train.count(), cp_test.count()]"
   ]
  },
  {
   "cell_type": "code",
   "execution_count": 33,
   "metadata": {},
   "outputs": [],
   "source": [
    "from pyspark.ml.classification import DecisionTreeClassifier\n",
    "tree = DecisionTreeClassifier()\n",
    "tree_model = tree.fit(cp_train)"
   ]
  },
  {
   "cell_type": "code",
   "execution_count": 34,
   "metadata": {},
   "outputs": [
    {
     "name": "stdout",
     "output_type": "stream",
     "text": [
      "+-----+----------+-----------------------------------------+\n",
      "|label|prediction|probability                              |\n",
      "+-----+----------+-----------------------------------------+\n",
      "|1.0  |1.0       |[0.39705882352941174,0.6029411764705882] |\n",
      "|1.0  |1.0       |[0.39705882352941174,0.6029411764705882] |\n",
      "|1.0  |1.0       |[0.39705882352941174,0.6029411764705882] |\n",
      "|0.0  |0.0       |[0.9362745098039216,0.06372549019607843] |\n",
      "|0.0  |0.0       |[0.9713690786048933,0.028630921395106715]|\n",
      "+-----+----------+-----------------------------------------+\n",
      "only showing top 5 rows\n",
      "\n",
      "+-----+----------+-----+\n",
      "|label|prediction|count|\n",
      "+-----+----------+-----+\n",
      "|  1.0|       1.0|  208|\n",
      "|  0.0|       1.0|   65|\n",
      "|  1.0|       0.0|   67|\n",
      "|  0.0|       0.0| 1787|\n",
      "+-----+----------+-----+\n",
      "\n"
     ]
    }
   ],
   "source": [
    "prediction = tree_model.transform(cp_test)\n",
    "prediction.select('label', 'prediction', 'probability').show(5, False)\n",
    "prediction.groupBy(\"label\", \"prediction\").count().show()\n"
   ]
  },
  {
   "cell_type": "markdown",
   "metadata": {},
   "source": [
    "# Evaluación del modelo"
   ]
  },
  {
   "cell_type": "code",
   "execution_count": 35,
   "metadata": {},
   "outputs": [],
   "source": [
    "#Hallando valores para la matriz de confusion\n",
    "TN = prediction.filter('prediction = 0 AND label = prediction').count()\n",
    "TP = prediction.filter('prediction = 1 AND label = prediction').count()\n",
    "FN = prediction.filter('prediction = 0 AND label != prediction').count()\n",
    "FP = prediction.filter('prediction = 1 AND label != prediction').count()\n"
   ]
  },
  {
   "cell_type": "code",
   "execution_count": 36,
   "metadata": {},
   "outputs": [
    {
     "name": "stdout",
     "output_type": "stream",
     "text": [
      "0.9379407616361072\n"
     ]
    }
   ],
   "source": [
    "precision = (TN+ TP)/(TN+TP+FN+FP)\n",
    "print(precision)\n"
   ]
  },
  {
   "cell_type": "code",
   "execution_count": 37,
   "metadata": {},
   "outputs": [
    {
     "data": {
      "text/plain": [
       "0.9379407616361072"
      ]
     },
     "execution_count": 37,
     "metadata": {},
     "output_type": "execute_result"
    }
   ],
   "source": [
    "from pyspark.ml.evaluation import MulticlassClassificationEvaluator\n",
    "\n",
    "df_accuracy = MulticlassClassificationEvaluator(labelCol=\"label\", metricName=\"accuracy\").evaluate(prediction)\n",
    "df_accuracy"
   ]
  },
  {
   "cell_type": "code",
   "execution_count": 38,
   "metadata": {},
   "outputs": [
    {
     "data": {
      "text/plain": [
       "0.9377508630387703"
      ]
     },
     "execution_count": 38,
     "metadata": {},
     "output_type": "execute_result"
    }
   ],
   "source": [
    "df_precision = MulticlassClassificationEvaluator(labelCol=\"label\", metricName=\"weightedPrecision\").evaluate(prediction)\n",
    "df_precision"
   ]
  },
  {
   "cell_type": "code",
   "execution_count": null,
   "metadata": {},
   "outputs": [],
   "source": []
  }
 ],
 "metadata": {
  "kernelspec": {
   "display_name": "Python 3 (ipykernel)",
   "language": "python",
   "name": "python3"
  },
  "language_info": {
   "codemirror_mode": {
    "name": "ipython",
    "version": 3
   },
   "file_extension": ".py",
   "mimetype": "text/x-python",
   "name": "python",
   "nbconvert_exporter": "python",
   "pygments_lexer": "ipython3",
   "version": "3.10.9"
  }
 },
 "nbformat": 4,
 "nbformat_minor": 4
}
