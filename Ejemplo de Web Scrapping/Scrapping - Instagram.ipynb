{
 "cells": [
  {
   "cell_type": "code",
   "execution_count": 16,
   "id": "4a38c257",
   "metadata": {},
   "outputs": [],
   "source": [
    "import os\n",
    "from selenium import webdriver\n",
    "from selenium.webdriver.support import expected_conditions as EC\n",
    "from selenium.webdriver.common.by import By\n",
    "from selenium.common.exceptions import NoSuchElementException\n",
    "from selenium.webdriver.support.ui import WebDriverWait\n",
    "import time\n",
    "from selenium.webdriver.common.keys import Keys"
   ]
  },
  {
   "cell_type": "code",
   "execution_count": 17,
   "id": "a1c07697",
   "metadata": {},
   "outputs": [],
   "source": [
    "f = open('credenciales.txt','r')\n",
    "us = f.readline().strip()\n",
    "pas = f.readline().strip()"
   ]
  },
  {
   "cell_type": "code",
   "execution_count": 18,
   "id": "e21724ed",
   "metadata": {
    "scrolled": false
   },
   "outputs": [
    {
     "name": "stderr",
     "output_type": "stream",
     "text": [
      "C:\\Users\\Roy\\AppData\\Local\\Temp\\ipykernel_3692\\273286598.py:3: DeprecationWarning: executable_path has been deprecated, please pass in a Service object\n",
      "  driver = webdriver.Chrome(driver_path)\n"
     ]
    }
   ],
   "source": [
    "ruta = os.getcwd()\n",
    "driver_path = '{}\\chromedriver.exe'.format(ruta)\n",
    "driver = webdriver.Chrome(driver_path)\n",
    "driver.get('https://www.instagram.com/')\n"
   ]
  },
  {
   "cell_type": "code",
   "execution_count": 19,
   "id": "50194fbe",
   "metadata": {},
   "outputs": [],
   "source": [
    "#Encontramos el elemento por \"name\"\n",
    "username = driver.find_element(By.NAME, \"username\")\n",
    "username.click()\n",
    "\n",
    "#Escribimos las credenciales leidas del txt\n",
    "username.send_keys(us)\n",
    "\n",
    "#Escribimos las credenciales para el password\n",
    "password = driver.find_element(By.NAME, \"password\")\n",
    "password.click()\n",
    "\n",
    "password.send_keys(pas)"
   ]
  },
  {
   "cell_type": "code",
   "execution_count": 20,
   "id": "bdac2d74",
   "metadata": {},
   "outputs": [],
   "source": [
    "login = driver.find_element(By.XPATH, '//*[@id=\"loginForm\"]/div/div[3]/button/div')\n",
    "login.click()"
   ]
  },
  {
   "cell_type": "code",
   "execution_count": 14,
   "id": "b38277f0",
   "metadata": {},
   "outputs": [],
   "source": [
    "#Guarda tu sesion? -- \n",
    "try:\n",
    "    info_se=driver.find_element(By.XPATH,'//*[@id=\"react-root\"]/section/main/div/div/div/div/button')\n",
    "    info_se.click()\n",
    "    time.sleep(2)\n",
    "except: \n",
    "    pass"
   ]
  },
  {
   "cell_type": "code",
   "execution_count": 15,
   "id": "9b738c5f",
   "metadata": {},
   "outputs": [],
   "source": [
    "#Activar Notificaciones?\n",
    "try:\n",
    "    noti_se=driver.find_element(By.XPATH,'//*[@id=\"mount_0_0_HR\"]/div/div[1]/div/div[2]/div/div/div[1]/div/div[2]/div/div/div/div/div/div/div/div[3]/button[2]')\n",
    "    noti_se.click()\n",
    "    time.sleep(2)\n",
    "except: \n",
    "    pass"
   ]
  },
  {
   "cell_type": "code",
   "execution_count": 18,
   "id": "55f90e7e",
   "metadata": {},
   "outputs": [],
   "source": [
    "buscar = driver.find_element(By.XPATH, '//*[@id=\"mount_0_0_HR\"]/div/div[1]/div/div[1]/div/div/div[1]/div[1]/section/nav/div[2]/div/div/div[2]/input')\n",
    "buscar.send_keys(\"la republica\")\n",
    "time.sleep(3)"
   ]
  },
  {
   "cell_type": "code",
   "execution_count": 21,
   "id": "5874d54b",
   "metadata": {},
   "outputs": [],
   "source": [
    "la_republica = driver.find_element(By.XPATH, '//*[@id=\"f3addcf2d85b36\"]/div')\n",
    "la_republica.click()\n",
    "time.sleep(3)"
   ]
  },
  {
   "cell_type": "code",
   "execution_count": 55,
   "id": "7055b9a0",
   "metadata": {},
   "outputs": [],
   "source": [
    "#publi = driver.find_element(By.CLASS_NAME,'oajrlxb2 g5ia77u1 qu0x051f esr5mh6w e9989ue4 r7d6kgcz rq0escxv nhd2j8a9 nc684nl6 p7hjln8o kvgmc6g5 cxmmr5t8 oygrvhab hcukyx3x jb3vyjys rz4wbd8a qt6c0cv9 a8nywdso i1ao9s8h esuyzwwr f1sip0of lzcic4wl _a6hd')\n",
    "#wait = WebDriverWait(driver,20)\n",
    "#wait.until(EC.visibility_of_all_elements_located(By.CSS_SELECTOR,'article a'))\n",
    "#for i in range(10):\n",
    " #   driver.execute_script(\"\"\"\n",
    "  #  var scroll = document.querySelector('div[class=\"_aa_y _aa_z _aa_-\"]  ._aa-i')\n",
    "   # scroll.scrollTop = scroll.scrollHeight\n",
    "    #\"\"\")\n",
    "    #time.sleep(2)\n",
    "comentarios = driver.find_elements(By.XPATH,\"//span[@class='_aacl _aaco _aacu _aacx _aad7 _aade']\")"
   ]
  },
  {
   "cell_type": "code",
   "execution_count": 61,
   "id": "e33ea4ea",
   "metadata": {
    "scrolled": true
   },
   "outputs": [
    {
     "data": {
      "text/plain": [
       "'Cortinasa de humo'"
      ]
     },
     "execution_count": 61,
     "metadata": {},
     "output_type": "execute_result"
    }
   ],
   "source": [
    "#comentarios = driver.find_element(By.XPATH, \"//span[@class='_aacl _aaco _aacu _aacx _aad7 _aade']\"\n",
    "#urls = [i.get_attribute('href') for i in publi]\n"
   ]
  }
 ],
 "metadata": {
  "kernelspec": {
   "display_name": "Python 3 (ipykernel)",
   "language": "python",
   "name": "python3"
  },
  "language_info": {
   "codemirror_mode": {
    "name": "ipython",
    "version": 3
   },
   "file_extension": ".py",
   "mimetype": "text/x-python",
   "name": "python",
   "nbconvert_exporter": "python",
   "pygments_lexer": "ipython3",
   "version": "3.10.9"
  }
 },
 "nbformat": 4,
 "nbformat_minor": 5
}
